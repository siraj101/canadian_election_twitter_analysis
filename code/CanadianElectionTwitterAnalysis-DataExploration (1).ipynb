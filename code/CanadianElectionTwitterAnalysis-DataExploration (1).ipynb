{
 "cells": [
  {
   "cell_type": "markdown",
   "id": "d7209bd4",
   "metadata": {},
   "source": [
    "# Data Exploration"
   ]
  },
  {
   "cell_type": "code",
   "execution_count": 1,
   "id": "e70d7eb1",
   "metadata": {},
   "outputs": [],
   "source": [
    "import numpy as np\n",
    "import pandas as pd\n",
    "import matplotlib.pyplot as plt\n",
    "import seaborn as sns\n",
    "from datetime import datetime as dt"
   ]
  },
  {
   "cell_type": "code",
   "execution_count": 2,
   "id": "545f533d",
   "metadata": {},
   "outputs": [],
   "source": [
    "#Import Data\n",
    "df = pd.read_csv('C:/Users/Brock/Downloads/tweets_election_df_v2.csv')"
   ]
  },
  {
   "cell_type": "code",
   "execution_count": 3,
   "id": "088bd546",
   "metadata": {},
   "outputs": [
    {
     "data": {
      "text/html": [
       "<div>\n",
       "<style scoped>\n",
       "    .dataframe tbody tr th:only-of-type {\n",
       "        vertical-align: middle;\n",
       "    }\n",
       "\n",
       "    .dataframe tbody tr th {\n",
       "        vertical-align: top;\n",
       "    }\n",
       "\n",
       "    .dataframe thead th {\n",
       "        text-align: right;\n",
       "    }\n",
       "</style>\n",
       "<table border=\"1\" class=\"dataframe\">\n",
       "  <thead>\n",
       "    <tr style=\"text-align: right;\">\n",
       "      <th></th>\n",
       "      <th>_type</th>\n",
       "      <th>url</th>\n",
       "      <th>date</th>\n",
       "      <th>content</th>\n",
       "      <th>renderedContent</th>\n",
       "      <th>id</th>\n",
       "      <th>user</th>\n",
       "      <th>replyCount</th>\n",
       "      <th>retweetCount</th>\n",
       "      <th>likeCount</th>\n",
       "      <th>...</th>\n",
       "      <th>media</th>\n",
       "      <th>retweetedTweet</th>\n",
       "      <th>quotedTweet</th>\n",
       "      <th>inReplyToTweetId</th>\n",
       "      <th>inReplyToUser</th>\n",
       "      <th>mentionedUsers</th>\n",
       "      <th>coordinates</th>\n",
       "      <th>place</th>\n",
       "      <th>hashtags</th>\n",
       "      <th>cashtags</th>\n",
       "    </tr>\n",
       "  </thead>\n",
       "  <tbody>\n",
       "    <tr>\n",
       "      <th>0</th>\n",
       "      <td>snscrape.modules.twitter.Tweet</td>\n",
       "      <td>https://twitter.com/givepeazachance/status/143...</td>\n",
       "      <td>2021-09-19 23:59:55+00:00</td>\n",
       "      <td>PR would mean PPC sitting at the table and for...</td>\n",
       "      <td>PR would mean PPC sitting at the table and for...</td>\n",
       "      <td>1439741072314408966</td>\n",
       "      <td>{'_type': 'snscrape.modules.twitter.User', 'us...</td>\n",
       "      <td>26</td>\n",
       "      <td>35</td>\n",
       "      <td>141</td>\n",
       "      <td>...</td>\n",
       "      <td>NaN</td>\n",
       "      <td>NaN</td>\n",
       "      <td>NaN</td>\n",
       "      <td>NaN</td>\n",
       "      <td>NaN</td>\n",
       "      <td>NaN</td>\n",
       "      <td>NaN</td>\n",
       "      <td>NaN</td>\n",
       "      <td>['Elxn44', 'cdnpoli']</td>\n",
       "      <td>NaN</td>\n",
       "    </tr>\n",
       "    <tr>\n",
       "      <th>1</th>\n",
       "      <td>snscrape.modules.twitter.Tweet</td>\n",
       "      <td>https://twitter.com/JacobMcCourt/status/143974...</td>\n",
       "      <td>2021-09-19 23:59:50+00:00</td>\n",
       "      <td>Tomorrow is #elxn44vote in Canada. \\n\\nRemembe...</td>\n",
       "      <td>Tomorrow is #elxn44vote in Canada. \\n\\nRemembe...</td>\n",
       "      <td>1439741052039139328</td>\n",
       "      <td>{'_type': 'snscrape.modules.twitter.User', 'us...</td>\n",
       "      <td>1</td>\n",
       "      <td>1</td>\n",
       "      <td>4</td>\n",
       "      <td>...</td>\n",
       "      <td>NaN</td>\n",
       "      <td>NaN</td>\n",
       "      <td>NaN</td>\n",
       "      <td>NaN</td>\n",
       "      <td>NaN</td>\n",
       "      <td>NaN</td>\n",
       "      <td>NaN</td>\n",
       "      <td>NaN</td>\n",
       "      <td>['elxn44vote', 'cdnpoli']</td>\n",
       "      <td>NaN</td>\n",
       "    </tr>\n",
       "    <tr>\n",
       "      <th>2</th>\n",
       "      <td>snscrape.modules.twitter.Tweet</td>\n",
       "      <td>https://twitter.com/picardonhealth/status/1439...</td>\n",
       "      <td>2021-09-19 23:59:47+00:00</td>\n",
       "      <td>Why do we still have to fight for basic #acces...</td>\n",
       "      <td>Why do we still have to fight for basic #acces...</td>\n",
       "      <td>1439741039237943301</td>\n",
       "      <td>{'_type': 'snscrape.modules.twitter.User', 'us...</td>\n",
       "      <td>1</td>\n",
       "      <td>5</td>\n",
       "      <td>15</td>\n",
       "      <td>...</td>\n",
       "      <td>NaN</td>\n",
       "      <td>NaN</td>\n",
       "      <td>NaN</td>\n",
       "      <td>1.439619e+18</td>\n",
       "      <td>{'_type': 'snscrape.modules.twitter.User', 'us...</td>\n",
       "      <td>[{'_type': 'snscrape.modules.twitter.User', 'u...</td>\n",
       "      <td>NaN</td>\n",
       "      <td>NaN</td>\n",
       "      <td>['accessibility', 'disability', 'inclusion', '...</td>\n",
       "      <td>NaN</td>\n",
       "    </tr>\n",
       "    <tr>\n",
       "      <th>3</th>\n",
       "      <td>snscrape.modules.twitter.Tweet</td>\n",
       "      <td>https://twitter.com/ShaneWenzel/status/1439740...</td>\n",
       "      <td>2021-09-19 23:59:29+00:00</td>\n",
       "      <td>Do you think your cost of living has improved ...</td>\n",
       "      <td>Do you think your cost of living has improved ...</td>\n",
       "      <td>1439740962264076292</td>\n",
       "      <td>{'_type': 'snscrape.modules.twitter.User', 'us...</td>\n",
       "      <td>37</td>\n",
       "      <td>264</td>\n",
       "      <td>163</td>\n",
       "      <td>...</td>\n",
       "      <td>NaN</td>\n",
       "      <td>NaN</td>\n",
       "      <td>NaN</td>\n",
       "      <td>NaN</td>\n",
       "      <td>NaN</td>\n",
       "      <td>NaN</td>\n",
       "      <td>{'_type': 'snscrape.modules.twitter.Coordinate...</td>\n",
       "      <td>{'_type': 'snscrape.modules.twitter.Place', 'f...</td>\n",
       "      <td>['cdnpoli', 'Elxn44']</td>\n",
       "      <td>NaN</td>\n",
       "    </tr>\n",
       "    <tr>\n",
       "      <th>4</th>\n",
       "      <td>snscrape.modules.twitter.Tweet</td>\n",
       "      <td>https://twitter.com/AnthonyNCentre/status/1439...</td>\n",
       "      <td>2021-09-19 23:59:26+00:00</td>\n",
       "      <td>Great seeing ⁦@JustinTrudeau⁩ today in #niagar...</td>\n",
       "      <td>Great seeing ⁦@JustinTrudeau⁩ today in #niagar...</td>\n",
       "      <td>1439740949727490050</td>\n",
       "      <td>{'_type': 'snscrape.modules.twitter.User', 'us...</td>\n",
       "      <td>0</td>\n",
       "      <td>1</td>\n",
       "      <td>13</td>\n",
       "      <td>...</td>\n",
       "      <td>[{'_type': 'snscrape.modules.twitter.Photo', '...</td>\n",
       "      <td>NaN</td>\n",
       "      <td>NaN</td>\n",
       "      <td>NaN</td>\n",
       "      <td>NaN</td>\n",
       "      <td>[{'_type': 'snscrape.modules.twitter.User', 'u...</td>\n",
       "      <td>NaN</td>\n",
       "      <td>NaN</td>\n",
       "      <td>['niagarafalls', 'elxn44', 'cdnpoli', 'forward...</td>\n",
       "      <td>NaN</td>\n",
       "    </tr>\n",
       "  </tbody>\n",
       "</table>\n",
       "<p>5 rows × 28 columns</p>\n",
       "</div>"
      ],
      "text/plain": [
       "                            _type  \\\n",
       "0  snscrape.modules.twitter.Tweet   \n",
       "1  snscrape.modules.twitter.Tweet   \n",
       "2  snscrape.modules.twitter.Tweet   \n",
       "3  snscrape.modules.twitter.Tweet   \n",
       "4  snscrape.modules.twitter.Tweet   \n",
       "\n",
       "                                                 url  \\\n",
       "0  https://twitter.com/givepeazachance/status/143...   \n",
       "1  https://twitter.com/JacobMcCourt/status/143974...   \n",
       "2  https://twitter.com/picardonhealth/status/1439...   \n",
       "3  https://twitter.com/ShaneWenzel/status/1439740...   \n",
       "4  https://twitter.com/AnthonyNCentre/status/1439...   \n",
       "\n",
       "                        date  \\\n",
       "0  2021-09-19 23:59:55+00:00   \n",
       "1  2021-09-19 23:59:50+00:00   \n",
       "2  2021-09-19 23:59:47+00:00   \n",
       "3  2021-09-19 23:59:29+00:00   \n",
       "4  2021-09-19 23:59:26+00:00   \n",
       "\n",
       "                                             content  \\\n",
       "0  PR would mean PPC sitting at the table and for...   \n",
       "1  Tomorrow is #elxn44vote in Canada. \\n\\nRemembe...   \n",
       "2  Why do we still have to fight for basic #acces...   \n",
       "3  Do you think your cost of living has improved ...   \n",
       "4  Great seeing ⁦@JustinTrudeau⁩ today in #niagar...   \n",
       "\n",
       "                                     renderedContent                   id  \\\n",
       "0  PR would mean PPC sitting at the table and for...  1439741072314408966   \n",
       "1  Tomorrow is #elxn44vote in Canada. \\n\\nRemembe...  1439741052039139328   \n",
       "2  Why do we still have to fight for basic #acces...  1439741039237943301   \n",
       "3  Do you think your cost of living has improved ...  1439740962264076292   \n",
       "4  Great seeing ⁦@JustinTrudeau⁩ today in #niagar...  1439740949727490050   \n",
       "\n",
       "                                                user  replyCount  \\\n",
       "0  {'_type': 'snscrape.modules.twitter.User', 'us...          26   \n",
       "1  {'_type': 'snscrape.modules.twitter.User', 'us...           1   \n",
       "2  {'_type': 'snscrape.modules.twitter.User', 'us...           1   \n",
       "3  {'_type': 'snscrape.modules.twitter.User', 'us...          37   \n",
       "4  {'_type': 'snscrape.modules.twitter.User', 'us...           0   \n",
       "\n",
       "   retweetCount  likeCount  ...  \\\n",
       "0            35        141  ...   \n",
       "1             1          4  ...   \n",
       "2             5         15  ...   \n",
       "3           264        163  ...   \n",
       "4             1         13  ...   \n",
       "\n",
       "                                               media  retweetedTweet  \\\n",
       "0                                                NaN             NaN   \n",
       "1                                                NaN             NaN   \n",
       "2                                                NaN             NaN   \n",
       "3                                                NaN             NaN   \n",
       "4  [{'_type': 'snscrape.modules.twitter.Photo', '...             NaN   \n",
       "\n",
       "  quotedTweet inReplyToTweetId  \\\n",
       "0         NaN              NaN   \n",
       "1         NaN              NaN   \n",
       "2         NaN     1.439619e+18   \n",
       "3         NaN              NaN   \n",
       "4         NaN              NaN   \n",
       "\n",
       "                                       inReplyToUser  \\\n",
       "0                                                NaN   \n",
       "1                                                NaN   \n",
       "2  {'_type': 'snscrape.modules.twitter.User', 'us...   \n",
       "3                                                NaN   \n",
       "4                                                NaN   \n",
       "\n",
       "                                      mentionedUsers  \\\n",
       "0                                                NaN   \n",
       "1                                                NaN   \n",
       "2  [{'_type': 'snscrape.modules.twitter.User', 'u...   \n",
       "3                                                NaN   \n",
       "4  [{'_type': 'snscrape.modules.twitter.User', 'u...   \n",
       "\n",
       "                                         coordinates  \\\n",
       "0                                                NaN   \n",
       "1                                                NaN   \n",
       "2                                                NaN   \n",
       "3  {'_type': 'snscrape.modules.twitter.Coordinate...   \n",
       "4                                                NaN   \n",
       "\n",
       "                                               place  \\\n",
       "0                                                NaN   \n",
       "1                                                NaN   \n",
       "2                                                NaN   \n",
       "3  {'_type': 'snscrape.modules.twitter.Place', 'f...   \n",
       "4                                                NaN   \n",
       "\n",
       "                                            hashtags  cashtags  \n",
       "0                              ['Elxn44', 'cdnpoli']       NaN  \n",
       "1                          ['elxn44vote', 'cdnpoli']       NaN  \n",
       "2  ['accessibility', 'disability', 'inclusion', '...       NaN  \n",
       "3                              ['cdnpoli', 'Elxn44']       NaN  \n",
       "4  ['niagarafalls', 'elxn44', 'cdnpoli', 'forward...       NaN  \n",
       "\n",
       "[5 rows x 28 columns]"
      ]
     },
     "execution_count": 3,
     "metadata": {},
     "output_type": "execute_result"
    }
   ],
   "source": [
    "df.head()"
   ]
  },
  {
   "cell_type": "markdown",
   "id": "7c66f806",
   "metadata": {},
   "source": [
    "## Summary Statistics - Quantitative Variables"
   ]
  },
  {
   "cell_type": "code",
   "execution_count": 4,
   "id": "db8d374a",
   "metadata": {},
   "outputs": [
    {
     "data": {
      "text/html": [
       "<div>\n",
       "<style scoped>\n",
       "    .dataframe tbody tr th:only-of-type {\n",
       "        vertical-align: middle;\n",
       "    }\n",
       "\n",
       "    .dataframe tbody tr th {\n",
       "        vertical-align: top;\n",
       "    }\n",
       "\n",
       "    .dataframe thead th {\n",
       "        text-align: right;\n",
       "    }\n",
       "</style>\n",
       "<table border=\"1\" class=\"dataframe\">\n",
       "  <thead>\n",
       "    <tr style=\"text-align: right;\">\n",
       "      <th></th>\n",
       "      <th>replyCount</th>\n",
       "      <th>retweetCount</th>\n",
       "      <th>likeCount</th>\n",
       "    </tr>\n",
       "  </thead>\n",
       "  <tbody>\n",
       "    <tr>\n",
       "      <th>count</th>\n",
       "      <td>15000.000000</td>\n",
       "      <td>15000.000000</td>\n",
       "      <td>15000.000000</td>\n",
       "    </tr>\n",
       "    <tr>\n",
       "      <th>mean</th>\n",
       "      <td>2.085467</td>\n",
       "      <td>5.315867</td>\n",
       "      <td>16.672733</td>\n",
       "    </tr>\n",
       "    <tr>\n",
       "      <th>std</th>\n",
       "      <td>19.559637</td>\n",
       "      <td>33.169070</td>\n",
       "      <td>88.786332</td>\n",
       "    </tr>\n",
       "    <tr>\n",
       "      <th>min</th>\n",
       "      <td>0.000000</td>\n",
       "      <td>0.000000</td>\n",
       "      <td>0.000000</td>\n",
       "    </tr>\n",
       "    <tr>\n",
       "      <th>25%</th>\n",
       "      <td>0.000000</td>\n",
       "      <td>0.000000</td>\n",
       "      <td>0.000000</td>\n",
       "    </tr>\n",
       "    <tr>\n",
       "      <th>50%</th>\n",
       "      <td>0.000000</td>\n",
       "      <td>0.000000</td>\n",
       "      <td>1.000000</td>\n",
       "    </tr>\n",
       "    <tr>\n",
       "      <th>75%</th>\n",
       "      <td>1.000000</td>\n",
       "      <td>1.000000</td>\n",
       "      <td>5.000000</td>\n",
       "    </tr>\n",
       "    <tr>\n",
       "      <th>max</th>\n",
       "      <td>995.000000</td>\n",
       "      <td>1236.000000</td>\n",
       "      <td>2387.000000</td>\n",
       "    </tr>\n",
       "  </tbody>\n",
       "</table>\n",
       "</div>"
      ],
      "text/plain": [
       "         replyCount  retweetCount     likeCount\n",
       "count  15000.000000  15000.000000  15000.000000\n",
       "mean       2.085467      5.315867     16.672733\n",
       "std       19.559637     33.169070     88.786332\n",
       "min        0.000000      0.000000      0.000000\n",
       "25%        0.000000      0.000000      0.000000\n",
       "50%        0.000000      0.000000      1.000000\n",
       "75%        1.000000      1.000000      5.000000\n",
       "max      995.000000   1236.000000   2387.000000"
      ]
     },
     "execution_count": 4,
     "metadata": {},
     "output_type": "execute_result"
    }
   ],
   "source": [
    "df[[\"replyCount\",\"retweetCount\",\"likeCount\"]].describe()"
   ]
  },
  {
   "cell_type": "markdown",
   "id": "5485fbb7",
   "metadata": {},
   "source": [
    "## Plots - Quantitative Variables"
   ]
  },
  {
   "cell_type": "code",
   "execution_count": 5,
   "id": "251f3bc9",
   "metadata": {
    "scrolled": true
   },
   "outputs": [
    {
     "data": {
      "image/png": "[encoded data removed]",
      "text/plain": [
       "<Figure size 432x288 with 1 Axes>"
      ]
     },
     "metadata": {
      "needs_background": "light"
     },
     "output_type": "display_data"
    }
   ],
   "source": [
    "#Reply Count\n",
    "plt.hist(df['replyCount'],bins = 50)\n",
    "\n",
    "plt.title('Reply Count distribution')\n",
    "plt.xlabel('Count')\n",
    "plt.ylabel('Replies')\n",
    "plt.show()"
   ]
  },
  {
   "cell_type": "code",
   "execution_count": 6,
   "id": "4ebcf1e0",
   "metadata": {},
   "outputs": [
    {
     "name": "stderr",
     "output_type": "stream",
     "text": [
      "C:\\Users\\Brock\\anaconda3\\lib\\site-packages\\seaborn\\_decorators.py:36: FutureWarning: Pass the following variable as a keyword arg: x. From version 0.12, the only valid positional argument will be `data`, and passing other arguments without an explicit keyword will result in an error or misinterpretation.\n",
      "  warnings.warn(\n"
     ]
    },
    {
     "data": {
      "image/png": "[encoded data removed]",
      "text/plain": [
       "<Figure size 432x288 with 1 Axes>"
      ]
     },
     "metadata": {
      "needs_background": "light"
     },
     "output_type": "display_data"
    }
   ],
   "source": [
    "sns.boxplot(df['replyCount']).set(title='Reply Count Boxplot') \n",
    "sns.despine()"
   ]
  },
  {
   "cell_type": "code",
   "execution_count": 7,
   "id": "ac6eafbf",
   "metadata": {},
   "outputs": [
    {
     "data": {
      "image/png": "[encoded data removed]",
      "text/plain": [
       "<Figure size 432x288 with 1 Axes>"
      ]
     },
     "metadata": {
      "needs_background": "light"
     },
     "output_type": "display_data"
    }
   ],
   "source": [
    "#Retweet Count\n",
    "plt.hist(df['retweetCount'],bins = 50)\n",
    "\n",
    "plt.title('Retweet Count distribution')\n",
    "plt.xlabel('Count')\n",
    "plt.ylabel('Retweet')\n",
    "plt.show()"
   ]
  },
  {
   "cell_type": "code",
   "execution_count": 8,
   "id": "338b2bd1",
   "metadata": {},
   "outputs": [
    {
     "name": "stderr",
     "output_type": "stream",
     "text": [
      "C:\\Users\\Brock\\anaconda3\\lib\\site-packages\\seaborn\\_decorators.py:36: FutureWarning: Pass the following variable as a keyword arg: x. From version 0.12, the only valid positional argument will be `data`, and passing other arguments without an explicit keyword will result in an error or misinterpretation.\n",
      "  warnings.warn(\n"
     ]
    },
    {
     "data": {
      "image/png": "[encoded data removed]",
      "text/plain": [
       "<Figure size 432x288 with 1 Axes>"
      ]
     },
     "metadata": {
      "needs_background": "light"
     },
     "output_type": "display_data"
    }
   ],
   "source": [
    "sns.boxplot(df['retweetCount']).set(title='Retweet Count Boxplot') \n",
    "sns.despine()"
   ]
  },
  {
   "cell_type": "code",
   "execution_count": 9,
   "id": "c0498b8a",
   "metadata": {},
   "outputs": [],
   "source": [
    "#Like Count"
   ]
  },
  {
   "cell_type": "code",
   "execution_count": 10,
   "id": "c6dea61c",
   "metadata": {},
   "outputs": [
    {
     "data": {
      "image/png": "[encoded data removed]",
      "text/plain": [
       "<Figure size 432x288 with 1 Axes>"
      ]
     },
     "metadata": {
      "needs_background": "light"
     },
     "output_type": "display_data"
    }
   ],
   "source": [
    "#Retweet Count\n",
    "plt.hist(df['likeCount'],bins = 50)\n",
    "\n",
    "plt.title('Like Count distribution')\n",
    "plt.xlabel('Count')\n",
    "plt.ylabel('Likes')\n",
    "plt.show()"
   ]
  },
  {
   "cell_type": "code",
   "execution_count": 11,
   "id": "a97619bd",
   "metadata": {},
   "outputs": [
    {
     "name": "stderr",
     "output_type": "stream",
     "text": [
      "C:\\Users\\Brock\\anaconda3\\lib\\site-packages\\seaborn\\_decorators.py:36: FutureWarning: Pass the following variable as a keyword arg: x. From version 0.12, the only valid positional argument will be `data`, and passing other arguments without an explicit keyword will result in an error or misinterpretation.\n",
      "  warnings.warn(\n"
     ]
    },
    {
     "data": {
      "image/png": "[encoded data removed]",
      "text/plain": [
       "<Figure size 432x288 with 1 Axes>"
      ]
     },
     "metadata": {
      "needs_background": "light"
     },
     "output_type": "display_data"
    }
   ],
   "source": [
    "sns.boxplot(df['likeCount']).set(title='Like Count Boxplot') \n",
    "sns.despine()"
   ]
  },
  {
   "cell_type": "code",
   "execution_count": 19,
   "id": "c8d29577",
   "metadata": {},
   "outputs": [],
   "source": [
    "#Convert Date from String to Datetime & Create other datetime variables\n",
    "df['Date_normal'] = pd.to_datetime(df['date'], infer_datetime_format=True)\n",
    "df['Hour']= df['Date_normal'].dt.hour\n",
    "df['Day']= df['Date_normal'].dt.dayofyear\n",
    "df['Weekday'] = df['Date_normal'].dt.weekday\n",
    "df['Week']= df['Date_normal'].dt.isocalendar().week\n",
    "df['Month']= df['Date_normal'].dt.month"
   ]
  },
  {
   "cell_type": "code",
   "execution_count": 20,
   "id": "c4cdd61e",
   "metadata": {},
   "outputs": [
    {
     "data": {
      "text/plain": [
       "Text(0, 0.5, 'Count')"
      ]
     },
     "execution_count": 20,
     "metadata": {},
     "output_type": "execute_result"
    },
    {
     "data": {
      "image/png": "[encoded data removed]",
      "text/plain": [
       "<Figure size 432x288 with 1 Axes>"
      ]
     },
     "metadata": {
      "needs_background": "light"
     },
     "output_type": "display_data"
    }
   ],
   "source": [
    "#Date - by month\n",
    "tweetsdate = df['Date_normal'].groupby(df['Date_normal'].dt.month).count().plot(kind=\"bar\", title = \"Tweets by Month\",)\n",
    "tweetsdate.set_xlabel(\"Month\")\n",
    "tweetsdate.set_ylabel(\"Count\")"
   ]
  },
  {
   "cell_type": "code",
   "execution_count": 21,
   "id": "df9dc9b6",
   "metadata": {},
   "outputs": [
    {
     "name": "stderr",
     "output_type": "stream",
     "text": [
      "<ipython-input-21-ec0984e34107>:2: FutureWarning: Series.dt.weekofyear and Series.dt.week have been deprecated.  Please use Series.dt.isocalendar().week instead.\n",
      "  tweetsdate = df['Date_normal'].groupby(df['Date_normal'].dt.week).count().plot(kind=\"bar\", title = \"Tweets by Week\",)\n"
     ]
    },
    {
     "data": {
      "text/plain": [
       "Text(0, 0.5, 'Count')"
      ]
     },
     "execution_count": 21,
     "metadata": {},
     "output_type": "execute_result"
    },
    {
     "data": {
      "image/png": "[encoded data removed]",
      "text/plain": [
       "<Figure size 432x288 with 1 Axes>"
      ]
     },
     "metadata": {
      "needs_background": "light"
     },
     "output_type": "display_data"
    }
   ],
   "source": [
    "#Date - by week\n",
    "tweetsdate = df['Date_normal'].groupby(df['Date_normal'].dt.week).count().plot(kind=\"bar\", title = \"Tweets by Week\",)\n",
    "tweetsdate.set_xlabel(\"Week\")\n",
    "tweetsdate.set_ylabel(\"Count\")"
   ]
  },
  {
   "cell_type": "markdown",
   "id": "6bbd9a2c",
   "metadata": {},
   "source": [
    "## Plot Quantitative Variables over Time"
   ]
  },
  {
   "cell_type": "code",
   "execution_count": 22,
   "id": "01168686",
   "metadata": {},
   "outputs": [
    {
     "data": {
      "text/plain": [
       "Text(0, 0.5, 'Count')"
      ]
     },
     "execution_count": 22,
     "metadata": {},
     "output_type": "execute_result"
    },
    {
     "data": {
      "image/png": "[encoded data removed]",
      "text/plain": [
       "<Figure size 432x288 with 1 Axes>"
      ]
     },
     "metadata": {
      "needs_background": "light"
     },
     "output_type": "display_data"
    }
   ],
   "source": [
    "#Reply Count by week\n",
    "replydate = df['replyCount'].groupby(df['Week']).sum().plot(kind=\"bar\", title = \"Replies by Week\",)\n",
    "replydate.set_xlabel(\"Week\")\n",
    "replydate.set_ylabel(\"Count\")\n"
   ]
  },
  {
   "cell_type": "code",
   "execution_count": 23,
   "id": "fdead9b0",
   "metadata": {},
   "outputs": [
    {
     "data": {
      "text/plain": [
       "Text(0, 0.5, 'Count')"
      ]
     },
     "execution_count": 23,
     "metadata": {},
     "output_type": "execute_result"
    },
    {
     "data": {
      "image/png": "[encoded data removed]",
      "text/plain": [
       "<Figure size 432x288 with 1 Axes>"
      ]
     },
     "metadata": {
      "needs_background": "light"
     },
     "output_type": "display_data"
    }
   ],
   "source": [
    "#Reply Count by day\n",
    "replydate = df['replyCount'].groupby(df['Day']).sum().plot(kind=\"bar\", title = \"Replies by Day\",)\n",
    "replydate.set_xlabel(\"Day\")\n",
    "replydate.set_ylabel(\"Count\")\n"
   ]
  },
  {
   "cell_type": "code",
   "execution_count": 15,
   "id": "5e4c0962",
   "metadata": {},
   "outputs": [
    {
     "data": {
      "text/plain": [
       "Text(0, 0.5, 'Count')"
      ]
     },
     "execution_count": 15,
     "metadata": {},
     "output_type": "execute_result"
    },
    {
     "data": {
      "image/png": "[encoded data removed]",
      "text/plain": [
       "<Figure size 432x288 with 1 Axes>"
      ]
     },
     "metadata": {
      "needs_background": "light"
     },
     "output_type": "display_data"
    }
   ],
   "source": [
    "#Retweet Count by week\n",
    "retweetdate = df['retweetCount'].groupby(df['Week']).sum().plot(kind=\"bar\", title = \"Retweets by Week\",)\n",
    "retweetdate.set_xlabel(\"Week\")\n",
    "retweetdate.set_ylabel(\"Count\")"
   ]
  },
  {
   "cell_type": "code",
   "execution_count": 24,
   "id": "0793dd32",
   "metadata": {},
   "outputs": [
    {
     "data": {
      "text/plain": [
       "Text(0, 0.5, 'Count')"
      ]
     },
     "execution_count": 24,
     "metadata": {},
     "output_type": "execute_result"
    },
    {
     "data": {
      "image/png": "[encoded data removed]",
      "text/plain": [
       "<Figure size 432x288 with 1 Axes>"
      ]
     },
     "metadata": {
      "needs_background": "light"
     },
     "output_type": "display_data"
    }
   ],
   "source": [
    "#Retweet Count by week\n",
    "retweetdate = df['retweetCount'].groupby(df['Day']).sum().plot(kind=\"bar\", title = \"Retweets by Day\",)\n",
    "retweetdate.set_xlabel(\"Day\")\n",
    "retweetdate.set_ylabel(\"Count\")"
   ]
  },
  {
   "cell_type": "code",
   "execution_count": 26,
   "id": "be47d721",
   "metadata": {},
   "outputs": [
    {
     "data": {
      "text/plain": [
       "Text(0, 0.5, 'Count')"
      ]
     },
     "execution_count": 26,
     "metadata": {},
     "output_type": "execute_result"
    },
    {
     "data": {
      "image/png": "[encoded data removed]",
      "text/plain": [
       "<Figure size 432x288 with 1 Axes>"
      ]
     },
     "metadata": {
      "needs_background": "light"
     },
     "output_type": "display_data"
    }
   ],
   "source": [
    "#Like Count by week\n",
    "likedate = df['likeCount'].groupby(df['Week']).sum().plot(kind=\"bar\", title = \"Likes by Week\",)\n",
    "likedate.set_xlabel(\"Week\")\n",
    "likedate.set_ylabel(\"Count\")"
   ]
  },
  {
   "cell_type": "code",
   "execution_count": 28,
   "id": "2183d2ce",
   "metadata": {},
   "outputs": [
    {
     "data": {
      "text/plain": [
       "Text(0, 0.5, 'Count')"
      ]
     },
     "execution_count": 28,
     "metadata": {},
     "output_type": "execute_result"
    },
    {
     "data": {
      "image/png": "[encoded data removed]",
      "text/plain": [
       "<Figure size 432x288 with 1 Axes>"
      ]
     },
     "metadata": {
      "needs_background": "light"
     },
     "output_type": "display_data"
    }
   ],
   "source": [
    "#Like Count by week\n",
    "likedate = df['likeCount'].groupby(df['Day']).sum().plot(kind=\"bar\", title = \"Likes by Day\",)\n",
    "likedate.set_xlabel(\"Day\")\n",
    "likedate.set_ylabel(\"Count\")"
   ]
  },
  {
   "cell_type": "markdown",
   "id": "9bc18d9a",
   "metadata": {},
   "source": [
    "## Location Exploration"
   ]
  },
  {
   "cell_type": "code",
   "execution_count": 144,
   "id": "c75ba425",
   "metadata": {},
   "outputs": [
    {
     "data": {
      "text/plain": [
       "3      -114.3160379, 'latitude': 50.84278}\n",
       "42    -113.8968062, 'latitude': 52.215426}\n",
       "79      -63.196592, 'latitude': 46.217197}\n",
       "87      -79.711527, 'latitude': 43.749761}\n",
       "97     -122.671484, 'latitude': 49.167283}\n",
       "Name: coordinates, dtype: object"
      ]
     },
     "execution_count": 144,
     "metadata": {},
     "output_type": "execute_result"
    }
   ],
   "source": [
    "#Get latitude and longitude data\n",
    "location[\"coordinates\"] = df['coordinates'].dropna()\n",
    "location['coordinates1'] = location['coordinates'].str[63:]\n",
    "location['coordinates1'].head()\n"
   ]
  },
  {
   "cell_type": "code",
   "execution_count": 145,
   "id": "70f889ab",
   "metadata": {},
   "outputs": [],
   "source": [
    "location['longitude']= location['coordinates1'].str.split(',').str[0]\n",
    "location['longitude'] = location['longitude'].str.replace(' ', '')\n",
    "location['longitude'] = location['longitude'].astype(float)"
   ]
  },
  {
   "cell_type": "code",
   "execution_count": 146,
   "id": "0136c214",
   "metadata": {},
   "outputs": [
    {
     "name": "stderr",
     "output_type": "stream",
     "text": [
      "<ipython-input-146-f45a6899db4a>:3: FutureWarning: The default value of regex will change from True to False in a future version. In addition, single character regular expressions will*not* be treated as literal strings when regex=True.\n",
      "  location['latitude'] = location['latitude'].str.replace('}', '')\n"
     ]
    }
   ],
   "source": [
    "location['latitude']= location['coordinates1'].str.split(':').str[1]\n",
    "location['latitude'] = location['latitude'].str.replace(' ', '')\n",
    "location['latitude'] = location['latitude'].str.replace('}', '')\n",
    "location['latitude'] = location['latitude'].astype(float)"
   ]
  },
  {
   "cell_type": "code",
   "execution_count": 150,
   "id": "becd434e",
   "metadata": {},
   "outputs": [],
   "source": [
    "location = location.drop(['coordinates','coordinates1'])"
   ]
  },
  {
   "cell_type": "code",
   "execution_count": 136,
   "id": "9f8012e1",
   "metadata": {},
   "outputs": [
    {
     "name": "stdout",
     "output_type": "stream",
     "text": [
      "Collecting reverse_geocoderNote: you may need to restart the kernel to use updated packages.\n",
      "  Downloading reverse_geocoder-1.5.1.tar.gz (2.2 MB)\n",
      "Requirement already satisfied: numpy>=1.11.0 in c:\\users\\brock\\anaconda3\\lib\\site-packages (from reverse_geocoder) (1.20.1)\n",
      "Requirement already satisfied: scipy>=0.17.1 in c:\\users\\brock\\anaconda3\\lib\\site-packages (from reverse_geocoder) (1.6.2)\n",
      "Building wheels for collected packages: reverse-geocoder\n",
      "  Building wheel for reverse-geocoder (setup.py): started\n",
      "  Building wheel for reverse-geocoder (setup.py): finished with status 'done'\n",
      "  Created wheel for reverse-geocoder: filename=reverse_geocoder-1.5.1-py3-none-any.whl size=2268088 sha256=1b1f8b7049f8a6dd4ac135d41e75084a693952753922d20625227dca7a209080\n",
      "  Stored in directory: c:\\users\\brock\\appdata\\local\\pip\\cache\\wheels\\65\\42\\5e\\223fcd5dc869ff98d5ee6b19e236f82828e4e3c039328ebe20\n",
      "\n",
      "Successfully built reverse-geocoder\n",
      "Installing collected packages: reverse-geocoder\n",
      "Successfully installed reverse-geocoder-1.5.1\n"
     ]
    }
   ],
   "source": [
    "pip install reverse_geocoder"
   ]
  },
  {
   "cell_type": "code",
   "execution_count": 137,
   "id": "73123320",
   "metadata": {},
   "outputs": [
    {
     "name": "stdout",
     "output_type": "stream",
     "text": [
      "Note: you may need to restart the kernel to use updated packages.\n"
     ]
    },
    {
     "name": "stderr",
     "output_type": "stream",
     "text": [
      "ERROR: Could not find a version that satisfies the requirement pprint\n",
      "ERROR: No matching distribution found for pprint\n"
     ]
    }
   ],
   "source": [
    "pip install pprint"
   ]
  },
  {
   "cell_type": "code",
   "execution_count": 138,
   "id": "c2fdcd25",
   "metadata": {},
   "outputs": [],
   "source": [
    "import reverse_geocoder as rg\n",
    "import pprint"
   ]
  },
  {
   "cell_type": "code",
   "execution_count": 152,
   "id": "dc21bba7",
   "metadata": {},
   "outputs": [],
   "source": [
    "coords = tuple(zip(location['latitude'], location['longitude']))"
   ]
  },
  {
   "cell_type": "code",
   "execution_count": 153,
   "id": "6dd0f266",
   "metadata": {},
   "outputs": [],
   "source": [
    "results_rg = rg.search(coords)\n",
    "results_admin2 = [x.get('admin2') for x in results_rg]\n"
   ]
  },
  {
   "cell_type": "code",
   "execution_count": 186,
   "id": "4bf2ca19",
   "metadata": {},
   "outputs": [],
   "source": [
    "from collections import Counter"
   ]
  },
  {
   "cell_type": "code",
   "execution_count": 187,
   "id": "474c05e5",
   "metadata": {},
   "outputs": [],
   "source": [
    "counts = Counter(results_admin2)"
   ]
  },
  {
   "cell_type": "code",
   "execution_count": 188,
   "id": "2072af68",
   "metadata": {},
   "outputs": [
    {
     "name": "stdout",
     "output_type": "stream",
     "text": [
      "Counter({'': 463, 'Whatcom County': 12, 'Halton': 8, 'Montreal': 2, 'Capitale-Nationale': 2, 'Erie County': 2, 'Chautauqua County': 2, 'Nord-du-Quebec': 1, 'Estrie': 1, 'Lisbon': 1, 'Kings County': 1, 'Norfolk County': 1, 'Cowichan Valley Regional District': 1, 'Greater Vancouver Regional District': 1, 'Ottawa County': 1, 'Regional Municipality of Niagara': 1, 'Hawaii County': 1, 'Annette Island Reserve': 1})\n"
     ]
    }
   ],
   "source": [
    "print(counts)"
   ]
  },
  {
   "cell_type": "code",
   "execution_count": null,
   "id": "67b6ed89",
   "metadata": {},
   "outputs": [],
   "source": []
  }
 ],
 "metadata": {
  "kernelspec": {
   "display_name": "Python 3",
   "language": "python",
   "name": "python3"
  },
  "language_info": {
   "codemirror_mode": {
    "name": "ipython",
    "version": 3
   },
   "file_extension": ".py",
   "mimetype": "text/x-python",
   "name": "python",
   "nbconvert_exporter": "python",
   "pygments_lexer": "ipython3",
   "version": "3.8.8"
  }
 },
 "nbformat": 4,
 "nbformat_minor": 5
}

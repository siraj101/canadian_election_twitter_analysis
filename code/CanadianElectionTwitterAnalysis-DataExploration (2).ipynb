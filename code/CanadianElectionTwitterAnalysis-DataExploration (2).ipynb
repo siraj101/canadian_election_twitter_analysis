{
 "cells": [
  {
   "cell_type": "markdown",
   "id": "d7209bd4",
   "metadata": {},
   "source": [
    "# Data Exploration"
   ]
  },
  {
   "cell_type": "code",
   "execution_count": 1,
   "id": "e70d7eb1",
   "metadata": {},
   "outputs": [],
   "source": [
    "import numpy as np\n",
    "import pandas as pd\n",
    "import matplotlib.pyplot as plt\n",
    "import seaborn as sns\n",
    "from datetime import datetime as dt"
   ]
  },
  {
   "cell_type": "code",
   "execution_count": 2,
   "id": "545f533d",
   "metadata": {},
   "outputs": [],
   "source": [
    "#Import Data\n",
    "df = pd.read_csv('C:/Users/Brock/Downloads/tweets_election_df_v2.csv')"
   ]
  },
  {
   "cell_type": "code",
   "execution_count": 3,
   "id": "088bd546",
   "metadata": {},
   "outputs": [
    {
     "data": {
      "text/html": [
       "<div>\n",
       "<style scoped>\n",
       "    .dataframe tbody tr th:only-of-type {\n",
       "        vertical-align: middle;\n",
       "    }\n",
       "\n",
       "    .dataframe tbody tr th {\n",
       "        vertical-align: top;\n",
       "    }\n",
       "\n",
       "    .dataframe thead th {\n",
       "        text-align: right;\n",
       "    }\n",
       "</style>\n",
       "<table border=\"1\" class=\"dataframe\">\n",
       "  <thead>\n",
       "    <tr style=\"text-align: right;\">\n",
       "      <th></th>\n",
       "      <th>_type</th>\n",
       "      <th>url</th>\n",
       "      <th>date</th>\n",
       "      <th>content</th>\n",
       "      <th>renderedContent</th>\n",
       "      <th>id</th>\n",
       "      <th>user</th>\n",
       "      <th>replyCount</th>\n",
       "      <th>retweetCount</th>\n",
       "      <th>likeCount</th>\n",
       "      <th>...</th>\n",
       "      <th>media</th>\n",
       "      <th>retweetedTweet</th>\n",
       "      <th>quotedTweet</th>\n",
       "      <th>inReplyToTweetId</th>\n",
       "      <th>inReplyToUser</th>\n",
       "      <th>mentionedUsers</th>\n",
       "      <th>coordinates</th>\n",
       "      <th>place</th>\n",
       "      <th>hashtags</th>\n",
       "      <th>cashtags</th>\n",
       "    </tr>\n",
       "  </thead>\n",
       "  <tbody>\n",
       "    <tr>\n",
       "      <th>0</th>\n",
       "      <td>snscrape.modules.twitter.Tweet</td>\n",
       "      <td>https://twitter.com/givepeazachance/status/143...</td>\n",
       "      <td>2021-09-19 23:59:55+00:00</td>\n",
       "      <td>PR would mean PPC sitting at the table and for...</td>\n",
       "      <td>PR would mean PPC sitting at the table and for...</td>\n",
       "      <td>1439741072314408966</td>\n",
       "      <td>{'_type': 'snscrape.modules.twitter.User', 'us...</td>\n",
       "      <td>26</td>\n",
       "      <td>35</td>\n",
       "      <td>141</td>\n",
       "      <td>...</td>\n",
       "      <td>NaN</td>\n",
       "      <td>NaN</td>\n",
       "      <td>NaN</td>\n",
       "      <td>NaN</td>\n",
       "      <td>NaN</td>\n",
       "      <td>NaN</td>\n",
       "      <td>NaN</td>\n",
       "      <td>NaN</td>\n",
       "      <td>['Elxn44', 'cdnpoli']</td>\n",
       "      <td>NaN</td>\n",
       "    </tr>\n",
       "    <tr>\n",
       "      <th>1</th>\n",
       "      <td>snscrape.modules.twitter.Tweet</td>\n",
       "      <td>https://twitter.com/JacobMcCourt/status/143974...</td>\n",
       "      <td>2021-09-19 23:59:50+00:00</td>\n",
       "      <td>Tomorrow is #elxn44vote in Canada. \\n\\nRemembe...</td>\n",
       "      <td>Tomorrow is #elxn44vote in Canada. \\n\\nRemembe...</td>\n",
       "      <td>1439741052039139328</td>\n",
       "      <td>{'_type': 'snscrape.modules.twitter.User', 'us...</td>\n",
       "      <td>1</td>\n",
       "      <td>1</td>\n",
       "      <td>4</td>\n",
       "      <td>...</td>\n",
       "      <td>NaN</td>\n",
       "      <td>NaN</td>\n",
       "      <td>NaN</td>\n",
       "      <td>NaN</td>\n",
       "      <td>NaN</td>\n",
       "      <td>NaN</td>\n",
       "      <td>NaN</td>\n",
       "      <td>NaN</td>\n",
       "      <td>['elxn44vote', 'cdnpoli']</td>\n",
       "      <td>NaN</td>\n",
       "    </tr>\n",
       "    <tr>\n",
       "      <th>2</th>\n",
       "      <td>snscrape.modules.twitter.Tweet</td>\n",
       "      <td>https://twitter.com/picardonhealth/status/1439...</td>\n",
       "      <td>2021-09-19 23:59:47+00:00</td>\n",
       "      <td>Why do we still have to fight for basic #acces...</td>\n",
       "      <td>Why do we still have to fight for basic #acces...</td>\n",
       "      <td>1439741039237943301</td>\n",
       "      <td>{'_type': 'snscrape.modules.twitter.User', 'us...</td>\n",
       "      <td>1</td>\n",
       "      <td>5</td>\n",
       "      <td>15</td>\n",
       "      <td>...</td>\n",
       "      <td>NaN</td>\n",
       "      <td>NaN</td>\n",
       "      <td>NaN</td>\n",
       "      <td>1.439619e+18</td>\n",
       "      <td>{'_type': 'snscrape.modules.twitter.User', 'us...</td>\n",
       "      <td>[{'_type': 'snscrape.modules.twitter.User', 'u...</td>\n",
       "      <td>NaN</td>\n",
       "      <td>NaN</td>\n",
       "      <td>['accessibility', 'disability', 'inclusion', '...</td>\n",
       "      <td>NaN</td>\n",
       "    </tr>\n",
       "    <tr>\n",
       "      <th>3</th>\n",
       "      <td>snscrape.modules.twitter.Tweet</td>\n",
       "      <td>https://twitter.com/ShaneWenzel/status/1439740...</td>\n",
       "      <td>2021-09-19 23:59:29+00:00</td>\n",
       "      <td>Do you think your cost of living has improved ...</td>\n",
       "      <td>Do you think your cost of living has improved ...</td>\n",
       "      <td>1439740962264076292</td>\n",
       "      <td>{'_type': 'snscrape.modules.twitter.User', 'us...</td>\n",
       "      <td>37</td>\n",
       "      <td>264</td>\n",
       "      <td>163</td>\n",
       "      <td>...</td>\n",
       "      <td>NaN</td>\n",
       "      <td>NaN</td>\n",
       "      <td>NaN</td>\n",
       "      <td>NaN</td>\n",
       "      <td>NaN</td>\n",
       "      <td>NaN</td>\n",
       "      <td>{'_type': 'snscrape.modules.twitter.Coordinate...</td>\n",
       "      <td>{'_type': 'snscrape.modules.twitter.Place', 'f...</td>\n",
       "      <td>['cdnpoli', 'Elxn44']</td>\n",
       "      <td>NaN</td>\n",
       "    </tr>\n",
       "    <tr>\n",
       "      <th>4</th>\n",
       "      <td>snscrape.modules.twitter.Tweet</td>\n",
       "      <td>https://twitter.com/AnthonyNCentre/status/1439...</td>\n",
       "      <td>2021-09-19 23:59:26+00:00</td>\n",
       "      <td>Great seeing ⁦@JustinTrudeau⁩ today in #niagar...</td>\n",
       "      <td>Great seeing ⁦@JustinTrudeau⁩ today in #niagar...</td>\n",
       "      <td>1439740949727490050</td>\n",
       "      <td>{'_type': 'snscrape.modules.twitter.User', 'us...</td>\n",
       "      <td>0</td>\n",
       "      <td>1</td>\n",
       "      <td>13</td>\n",
       "      <td>...</td>\n",
       "      <td>[{'_type': 'snscrape.modules.twitter.Photo', '...</td>\n",
       "      <td>NaN</td>\n",
       "      <td>NaN</td>\n",
       "      <td>NaN</td>\n",
       "      <td>NaN</td>\n",
       "      <td>[{'_type': 'snscrape.modules.twitter.User', 'u...</td>\n",
       "      <td>NaN</td>\n",
       "      <td>NaN</td>\n",
       "      <td>['niagarafalls', 'elxn44', 'cdnpoli', 'forward...</td>\n",
       "      <td>NaN</td>\n",
       "    </tr>\n",
       "  </tbody>\n",
       "</table>\n",
       "<p>5 rows × 28 columns</p>\n",
       "</div>"
      ],
      "text/plain": [
       "                            _type  \\\n",
       "0  snscrape.modules.twitter.Tweet   \n",
       "1  snscrape.modules.twitter.Tweet   \n",
       "2  snscrape.modules.twitter.Tweet   \n",
       "3  snscrape.modules.twitter.Tweet   \n",
       "4  snscrape.modules.twitter.Tweet   \n",
       "\n",
       "                                                 url  \\\n",
       "0  https://twitter.com/givepeazachance/status/143...   \n",
       "1  https://twitter.com/JacobMcCourt/status/143974...   \n",
       "2  https://twitter.com/picardonhealth/status/1439...   \n",
       "3  https://twitter.com/ShaneWenzel/status/1439740...   \n",
       "4  https://twitter.com/AnthonyNCentre/status/1439...   \n",
       "\n",
       "                        date  \\\n",
       "0  2021-09-19 23:59:55+00:00   \n",
       "1  2021-09-19 23:59:50+00:00   \n",
       "2  2021-09-19 23:59:47+00:00   \n",
       "3  2021-09-19 23:59:29+00:00   \n",
       "4  2021-09-19 23:59:26+00:00   \n",
       "\n",
       "                                             content  \\\n",
       "0  PR would mean PPC sitting at the table and for...   \n",
       "1  Tomorrow is #elxn44vote in Canada. \\n\\nRemembe...   \n",
       "2  Why do we still have to fight for basic #acces...   \n",
       "3  Do you think your cost of living has improved ...   \n",
       "4  Great seeing ⁦@JustinTrudeau⁩ today in #niagar...   \n",
       "\n",
       "                                     renderedContent                   id  \\\n",
       "0  PR would mean PPC sitting at the table and for...  1439741072314408966   \n",
       "1  Tomorrow is #elxn44vote in Canada. \\n\\nRemembe...  1439741052039139328   \n",
       "2  Why do we still have to fight for basic #acces...  1439741039237943301   \n",
       "3  Do you think your cost of living has improved ...  1439740962264076292   \n",
       "4  Great seeing ⁦@JustinTrudeau⁩ today in #niagar...  1439740949727490050   \n",
       "\n",
       "                                                user  replyCount  \\\n",
       "0  {'_type': 'snscrape.modules.twitter.User', 'us...          26   \n",
       "1  {'_type': 'snscrape.modules.twitter.User', 'us...           1   \n",
       "2  {'_type': 'snscrape.modules.twitter.User', 'us...           1   \n",
       "3  {'_type': 'snscrape.modules.twitter.User', 'us...          37   \n",
       "4  {'_type': 'snscrape.modules.twitter.User', 'us...           0   \n",
       "\n",
       "   retweetCount  likeCount  ...  \\\n",
       "0            35        141  ...   \n",
       "1             1          4  ...   \n",
       "2             5         15  ...   \n",
       "3           264        163  ...   \n",
       "4             1         13  ...   \n",
       "\n",
       "                                               media  retweetedTweet  \\\n",
       "0                                                NaN             NaN   \n",
       "1                                                NaN             NaN   \n",
       "2                                                NaN             NaN   \n",
       "3                                                NaN             NaN   \n",
       "4  [{'_type': 'snscrape.modules.twitter.Photo', '...             NaN   \n",
       "\n",
       "  quotedTweet inReplyToTweetId  \\\n",
       "0         NaN              NaN   \n",
       "1         NaN              NaN   \n",
       "2         NaN     1.439619e+18   \n",
       "3         NaN              NaN   \n",
       "4         NaN              NaN   \n",
       "\n",
       "                                       inReplyToUser  \\\n",
       "0                                                NaN   \n",
       "1                                                NaN   \n",
       "2  {'_type': 'snscrape.modules.twitter.User', 'us...   \n",
       "3                                                NaN   \n",
       "4                                                NaN   \n",
       "\n",
       "                                      mentionedUsers  \\\n",
       "0                                                NaN   \n",
       "1                                                NaN   \n",
       "2  [{'_type': 'snscrape.modules.twitter.User', 'u...   \n",
       "3                                                NaN   \n",
       "4  [{'_type': 'snscrape.modules.twitter.User', 'u...   \n",
       "\n",
       "                                         coordinates  \\\n",
       "0                                                NaN   \n",
       "1                                                NaN   \n",
       "2                                                NaN   \n",
       "3  {'_type': 'snscrape.modules.twitter.Coordinate...   \n",
       "4                                                NaN   \n",
       "\n",
       "                                               place  \\\n",
       "0                                                NaN   \n",
       "1                                                NaN   \n",
       "2                                                NaN   \n",
       "3  {'_type': 'snscrape.modules.twitter.Place', 'f...   \n",
       "4                                                NaN   \n",
       "\n",
       "                                            hashtags  cashtags  \n",
       "0                              ['Elxn44', 'cdnpoli']       NaN  \n",
       "1                          ['elxn44vote', 'cdnpoli']       NaN  \n",
       "2  ['accessibility', 'disability', 'inclusion', '...       NaN  \n",
       "3                              ['cdnpoli', 'Elxn44']       NaN  \n",
       "4  ['niagarafalls', 'elxn44', 'cdnpoli', 'forward...       NaN  \n",
       "\n",
       "[5 rows x 28 columns]"
      ]
     },
     "execution_count": 3,
     "metadata": {},
     "output_type": "execute_result"
    }
   ],
   "source": [
    "df.head()"
   ]
  },
  {
   "cell_type": "markdown",
   "id": "7c66f806",
   "metadata": {},
   "source": [
    "## Summary Statistics - Quantitative Variables"
   ]
  },
  {
   "cell_type": "code",
   "execution_count": 6,
   "id": "db8d374a",
   "metadata": {},
   "outputs": [
    {
     "data": {
      "text/html": [
       "<div>\n",
       "<style scoped>\n",
       "    .dataframe tbody tr th:only-of-type {\n",
       "        vertical-align: middle;\n",
       "    }\n",
       "\n",
       "    .dataframe tbody tr th {\n",
       "        vertical-align: top;\n",
       "    }\n",
       "\n",
       "    .dataframe thead th {\n",
       "        text-align: right;\n",
       "    }\n",
       "</style>\n",
       "<table border=\"1\" class=\"dataframe\">\n",
       "  <thead>\n",
       "    <tr style=\"text-align: right;\">\n",
       "      <th></th>\n",
       "      <th>replyCount</th>\n",
       "      <th>retweetCount</th>\n",
       "      <th>likeCount</th>\n",
       "      <th>quoteCount</th>\n",
       "    </tr>\n",
       "  </thead>\n",
       "  <tbody>\n",
       "    <tr>\n",
       "      <th>count</th>\n",
       "      <td>15000.000000</td>\n",
       "      <td>15000.000000</td>\n",
       "      <td>15000.000000</td>\n",
       "      <td>15000.000000</td>\n",
       "    </tr>\n",
       "    <tr>\n",
       "      <th>mean</th>\n",
       "      <td>2.085467</td>\n",
       "      <td>5.315867</td>\n",
       "      <td>16.672733</td>\n",
       "      <td>0.745800</td>\n",
       "    </tr>\n",
       "    <tr>\n",
       "      <th>std</th>\n",
       "      <td>19.559637</td>\n",
       "      <td>33.169070</td>\n",
       "      <td>88.786332</td>\n",
       "      <td>8.784254</td>\n",
       "    </tr>\n",
       "    <tr>\n",
       "      <th>min</th>\n",
       "      <td>0.000000</td>\n",
       "      <td>0.000000</td>\n",
       "      <td>0.000000</td>\n",
       "      <td>0.000000</td>\n",
       "    </tr>\n",
       "    <tr>\n",
       "      <th>25%</th>\n",
       "      <td>0.000000</td>\n",
       "      <td>0.000000</td>\n",
       "      <td>0.000000</td>\n",
       "      <td>0.000000</td>\n",
       "    </tr>\n",
       "    <tr>\n",
       "      <th>50%</th>\n",
       "      <td>0.000000</td>\n",
       "      <td>0.000000</td>\n",
       "      <td>1.000000</td>\n",
       "      <td>0.000000</td>\n",
       "    </tr>\n",
       "    <tr>\n",
       "      <th>75%</th>\n",
       "      <td>1.000000</td>\n",
       "      <td>1.000000</td>\n",
       "      <td>5.000000</td>\n",
       "      <td>0.000000</td>\n",
       "    </tr>\n",
       "    <tr>\n",
       "      <th>max</th>\n",
       "      <td>995.000000</td>\n",
       "      <td>1236.000000</td>\n",
       "      <td>2387.000000</td>\n",
       "      <td>455.000000</td>\n",
       "    </tr>\n",
       "  </tbody>\n",
       "</table>\n",
       "</div>"
      ],
      "text/plain": [
       "         replyCount  retweetCount     likeCount    quoteCount\n",
       "count  15000.000000  15000.000000  15000.000000  15000.000000\n",
       "mean       2.085467      5.315867     16.672733      0.745800\n",
       "std       19.559637     33.169070     88.786332      8.784254\n",
       "min        0.000000      0.000000      0.000000      0.000000\n",
       "25%        0.000000      0.000000      0.000000      0.000000\n",
       "50%        0.000000      0.000000      1.000000      0.000000\n",
       "75%        1.000000      1.000000      5.000000      0.000000\n",
       "max      995.000000   1236.000000   2387.000000    455.000000"
      ]
     },
     "execution_count": 6,
     "metadata": {},
     "output_type": "execute_result"
    }
   ],
   "source": [
    "df[[\"replyCount\",\"retweetCount\",\"likeCount\",\"quoteCount\"]].describe()"
   ]
  },
  {
   "cell_type": "markdown",
   "id": "5485fbb7",
   "metadata": {},
   "source": [
    "## Plots - Quantitative Variables"
   ]
  },
  {
   "cell_type": "code",
   "execution_count": 7,
   "id": "251f3bc9",
   "metadata": {
    "scrolled": true
   },
   "outputs": [
    {
     "data": {
      "image/png": "[encoded data removed]",
      "text/plain": [
       "<Figure size 432x288 with 1 Axes>"
      ]
     },
     "metadata": {
      "needs_background": "light"
     },
     "output_type": "display_data"
    }
   ],
   "source": [
    "#Reply Count\n",
    "plt.hist(df['replyCount'],bins = 50)\n",
    "\n",
    "plt.title('Reply Count distribution')\n",
    "plt.xlabel('Count')\n",
    "plt.ylabel('Replies')\n",
    "plt.show()"
   ]
  },
  {
   "cell_type": "code",
   "execution_count": 8,
   "id": "4ebcf1e0",
   "metadata": {},
   "outputs": [
    {
     "name": "stderr",
     "output_type": "stream",
     "text": [
      "C:\\Users\\Brock\\anaconda3\\lib\\site-packages\\seaborn\\_decorators.py:36: FutureWarning: Pass the following variable as a keyword arg: x. From version 0.12, the only valid positional argument will be `data`, and passing other arguments without an explicit keyword will result in an error or misinterpretation.\n",
      "  warnings.warn(\n"
     ]
    },
    {
     "data": {
      "image/png": "[encoded data removed]",
      "text/plain": [
       "<Figure size 432x288 with 1 Axes>"
      ]
     },
     "metadata": {
      "needs_background": "light"
     },
     "output_type": "display_data"
    }
   ],
   "source": [
    "sns.boxplot(df['replyCount']).set(title='Reply Count Boxplot') \n",
    "sns.despine()"
   ]
  },
  {
   "cell_type": "code",
   "execution_count": 9,
   "id": "ac6eafbf",
   "metadata": {},
   "outputs": [
    {
     "data": {
      "image/png": "[encoded data removed]",
      "text/plain": [
       "<Figure size 432x288 with 1 Axes>"
      ]
     },
     "metadata": {
      "needs_background": "light"
     },
     "output_type": "display_data"
    }
   ],
   "source": [
    "#Retweet Count\n",
    "plt.hist(df['retweetCount'],bins = 50)\n",
    "\n",
    "plt.title('Retweet Count distribution')\n",
    "plt.xlabel('Count')\n",
    "plt.ylabel('Retweet')\n",
    "plt.show()"
   ]
  },
  {
   "cell_type": "code",
   "execution_count": 10,
   "id": "338b2bd1",
   "metadata": {},
   "outputs": [
    {
     "name": "stderr",
     "output_type": "stream",
     "text": [
      "C:\\Users\\Brock\\anaconda3\\lib\\site-packages\\seaborn\\_decorators.py:36: FutureWarning: Pass the following variable as a keyword arg: x. From version 0.12, the only valid positional argument will be `data`, and passing other arguments without an explicit keyword will result in an error or misinterpretation.\n",
      "  warnings.warn(\n"
     ]
    },
    {
     "data": {
      "image/png": "[encoded data removed]",
      "text/plain": [
       "<Figure size 432x288 with 1 Axes>"
      ]
     },
     "metadata": {
      "needs_background": "light"
     },
     "output_type": "display_data"
    }
   ],
   "source": [
    "sns.boxplot(df['retweetCount']).set(title='Retweet Count Boxplot') \n",
    "sns.despine()"
   ]
  },
  {
   "cell_type": "code",
   "execution_count": 14,
   "id": "c0498b8a",
   "metadata": {},
   "outputs": [],
   "source": [
    "#Like Count"
   ]
  },
  {
   "cell_type": "code",
   "execution_count": 15,
   "id": "c6dea61c",
   "metadata": {},
   "outputs": [
    {
     "data": {
      "image/png": "[encoded data removed]",
      "text/plain": [
       "<Figure size 432x288 with 1 Axes>"
      ]
     },
     "metadata": {
      "needs_background": "light"
     },
     "output_type": "display_data"
    }
   ],
   "source": [
    "plt.hist(df['likeCount'],bins = 50)\n",
    "\n",
    "plt.title('Like Count distribution')\n",
    "plt.xlabel('Count')\n",
    "plt.ylabel('Likes')\n",
    "plt.show()"
   ]
  },
  {
   "cell_type": "code",
   "execution_count": 16,
   "id": "a97619bd",
   "metadata": {},
   "outputs": [
    {
     "name": "stderr",
     "output_type": "stream",
     "text": [
      "C:\\Users\\Brock\\anaconda3\\lib\\site-packages\\seaborn\\_decorators.py:36: FutureWarning: Pass the following variable as a keyword arg: x. From version 0.12, the only valid positional argument will be `data`, and passing other arguments without an explicit keyword will result in an error or misinterpretation.\n",
      "  warnings.warn(\n"
     ]
    },
    {
     "data": {
      "image/png": "[encoded data removed]",
      "text/plain": [
       "<Figure size 432x288 with 1 Axes>"
      ]
     },
     "metadata": {
      "needs_background": "light"
     },
     "output_type": "display_data"
    }
   ],
   "source": [
    "sns.boxplot(df['likeCount']).set(title='Like Count Boxplot') \n",
    "sns.despine()"
   ]
  },
  {
   "cell_type": "code",
   "execution_count": 17,
   "id": "6a15d5bb",
   "metadata": {},
   "outputs": [
    {
     "data": {
      "image/png": "[encoded data removed]",
      "text/plain": [
       "<Figure size 432x288 with 1 Axes>"
      ]
     },
     "metadata": {
      "needs_background": "light"
     },
     "output_type": "display_data"
    }
   ],
   "source": [
    "#Quote Count\n",
    "plt.hist(df['quoteCount'],bins = 50)\n",
    "\n",
    "plt.title('Quote Count distribution')\n",
    "plt.xlabel('Count')\n",
    "plt.ylabel('Quotes')\n",
    "plt.show()"
   ]
  },
  {
   "cell_type": "code",
   "execution_count": 18,
   "id": "9d849c24",
   "metadata": {},
   "outputs": [
    {
     "name": "stderr",
     "output_type": "stream",
     "text": [
      "C:\\Users\\Brock\\anaconda3\\lib\\site-packages\\seaborn\\_decorators.py:36: FutureWarning: Pass the following variable as a keyword arg: x. From version 0.12, the only valid positional argument will be `data`, and passing other arguments without an explicit keyword will result in an error or misinterpretation.\n",
      "  warnings.warn(\n"
     ]
    },
    {
     "data": {
      "image/png": "[encoded data removed]",
      "text/plain": [
       "<Figure size 432x288 with 1 Axes>"
      ]
     },
     "metadata": {
      "needs_background": "light"
     },
     "output_type": "display_data"
    }
   ],
   "source": [
    "sns.boxplot(df['quoteCount']).set(title='Quote Count Boxplot') \n",
    "sns.despine()"
   ]
  },
  {
   "cell_type": "code",
   "execution_count": 19,
   "id": "c8d29577",
   "metadata": {},
   "outputs": [],
   "source": [
    "#Convert Date from String to Datetime & Create other datetime variables\n",
    "df['Date_normal'] = pd.to_datetime(df['date'], infer_datetime_format=True)\n",
    "df['Hour']= df['Date_normal'].dt.hour\n",
    "df['Day']= df['Date_normal'].dt.dayofyear\n",
    "df['Weekday'] = df['Date_normal'].dt.weekday\n",
    "df['Week']= df['Date_normal'].dt.isocalendar().week\n",
    "df['Month']= df['Date_normal'].dt.month"
   ]
  },
  {
   "cell_type": "code",
   "execution_count": 20,
   "id": "c4cdd61e",
   "metadata": {},
   "outputs": [
    {
     "data": {
      "text/plain": [
       "Text(0, 0.5, 'Count')"
      ]
     },
     "execution_count": 20,
     "metadata": {},
     "output_type": "execute_result"
    },
    {
     "data": {
      "image/png": "[encoded data removed]",
      "text/plain": [
       "<Figure size 432x288 with 1 Axes>"
      ]
     },
     "metadata": {
      "needs_background": "light"
     },
     "output_type": "display_data"
    }
   ],
   "source": [
    "#Date - by month\n",
    "tweetsdate = df['Date_normal'].groupby(df['Date_normal'].dt.month).count().plot(kind=\"bar\", title = \"Tweets by Month\",)\n",
    "tweetsdate.set_xlabel(\"Month\")\n",
    "tweetsdate.set_ylabel(\"Count\")"
   ]
  },
  {
   "cell_type": "code",
   "execution_count": 21,
   "id": "df9dc9b6",
   "metadata": {},
   "outputs": [
    {
     "name": "stderr",
     "output_type": "stream",
     "text": [
      "<ipython-input-21-ec0984e34107>:2: FutureWarning: Series.dt.weekofyear and Series.dt.week have been deprecated.  Please use Series.dt.isocalendar().week instead.\n",
      "  tweetsdate = df['Date_normal'].groupby(df['Date_normal'].dt.week).count().plot(kind=\"bar\", title = \"Tweets by Week\",)\n"
     ]
    },
    {
     "data": {
      "text/plain": [
       "Text(0, 0.5, 'Count')"
      ]
     },
     "execution_count": 21,
     "metadata": {},
     "output_type": "execute_result"
    },
    {
     "data": {
      "image/png": "[encoded data removed]",
      "text/plain": [
       "<Figure size 432x288 with 1 Axes>"
      ]
     },
     "metadata": {
      "needs_background": "light"
     },
     "output_type": "display_data"
    }
   ],
   "source": [
    "#Date - by week\n",
    "tweetsdate = df['Date_normal'].groupby(df['Date_normal'].dt.week).count().plot(kind=\"bar\", title = \"Tweets by Week\",)\n",
    "tweetsdate.set_xlabel(\"Week\")\n",
    "tweetsdate.set_ylabel(\"Count\")"
   ]
  },
  {
   "cell_type": "markdown",
   "id": "6bbd9a2c",
   "metadata": {},
   "source": [
    "## Plot Quantitative Variables over Time"
   ]
  },
  {
   "cell_type": "code",
   "execution_count": 22,
   "id": "01168686",
   "metadata": {},
   "outputs": [
    {
     "data": {
      "text/plain": [
       "Text(0, 0.5, 'Count')"
      ]
     },
     "execution_count": 22,
     "metadata": {},
     "output_type": "execute_result"
    },
    {
     "data": {
      "image/png": "[encoded data removed]",
      "text/plain": [
       "<Figure size 432x288 with 1 Axes>"
      ]
     },
     "metadata": {
      "needs_background": "light"
     },
     "output_type": "display_data"
    }
   ],
   "source": [
    "#Reply Count by week\n",
    "replydate = df['replyCount'].groupby(df['Week']).sum().plot(kind=\"bar\", title = \"Replies by Week\",)\n",
    "replydate.set_xlabel(\"Week\")\n",
    "replydate.set_ylabel(\"Count\")\n"
   ]
  },
  {
   "cell_type": "code",
   "execution_count": 23,
   "id": "fdead9b0",
   "metadata": {},
   "outputs": [
    {
     "data": {
      "text/plain": [
       "Text(0, 0.5, 'Count')"
      ]
     },
     "execution_count": 23,
     "metadata": {},
     "output_type": "execute_result"
    },
    {
     "data": {
      "image/png": "[encoded data removed]",
      "text/plain": [
       "<Figure size 432x288 with 1 Axes>"
      ]
     },
     "metadata": {
      "needs_background": "light"
     },
     "output_type": "display_data"
    }
   ],
   "source": [
    "#Reply Count by day\n",
    "replydate = df['replyCount'].groupby(df['Day']).sum().plot(kind=\"bar\", title = \"Replies by Day\",)\n",
    "replydate.set_xlabel(\"Day\")\n",
    "replydate.set_ylabel(\"Count\")\n"
   ]
  },
  {
   "cell_type": "code",
   "execution_count": 24,
   "id": "5e4c0962",
   "metadata": {},
   "outputs": [
    {
     "data": {
      "text/plain": [
       "Text(0, 0.5, 'Count')"
      ]
     },
     "execution_count": 24,
     "metadata": {},
     "output_type": "execute_result"
    },
    {
     "data": {
      "image/png": "[encoded data removed]",
      "text/plain": [
       "<Figure size 432x288 with 1 Axes>"
      ]
     },
     "metadata": {
      "needs_background": "light"
     },
     "output_type": "display_data"
    }
   ],
   "source": [
    "#Retweet Count by week\n",
    "retweetdate = df['retweetCount'].groupby(df['Week']).sum().plot(kind=\"bar\", title = \"Retweets by Week\",)\n",
    "retweetdate.set_xlabel(\"Week\")\n",
    "retweetdate.set_ylabel(\"Count\")"
   ]
  },
  {
   "cell_type": "code",
   "execution_count": 25,
   "id": "0793dd32",
   "metadata": {},
   "outputs": [
    {
     "data": {
      "text/plain": [
       "Text(0, 0.5, 'Count')"
      ]
     },
     "execution_count": 25,
     "metadata": {},
     "output_type": "execute_result"
    },
    {
     "data": {
      "image/png": "[encoded data removed]",
      "text/plain": [
       "<Figure size 432x288 with 1 Axes>"
      ]
     },
     "metadata": {
      "needs_background": "light"
     },
     "output_type": "display_data"
    }
   ],
   "source": [
    "#Retweet Count by day\n",
    "retweetdate = df['retweetCount'].groupby(df['Day']).sum().plot(kind=\"bar\", title = \"Retweets by Day\",)\n",
    "retweetdate.set_xlabel(\"Day\")\n",
    "retweetdate.set_ylabel(\"Count\")"
   ]
  },
  {
   "cell_type": "code",
   "execution_count": 26,
   "id": "be47d721",
   "metadata": {},
   "outputs": [
    {
     "data": {
      "text/plain": [
       "Text(0, 0.5, 'Count')"
      ]
     },
     "execution_count": 26,
     "metadata": {},
     "output_type": "execute_result"
    },
    {
     "data": {
      "image/png": "[encoded data removed]",
      "text/plain": [
       "<Figure size 432x288 with 1 Axes>"
      ]
     },
     "metadata": {
      "needs_background": "light"
     },
     "output_type": "display_data"
    }
   ],
   "source": [
    "#Like Count by week\n",
    "likedate = df['likeCount'].groupby(df['Week']).sum().plot(kind=\"bar\", title = \"Likes by Week\",)\n",
    "likedate.set_xlabel(\"Week\")\n",
    "likedate.set_ylabel(\"Count\")"
   ]
  },
  {
   "cell_type": "code",
   "execution_count": 27,
   "id": "2183d2ce",
   "metadata": {},
   "outputs": [
    {
     "data": {
      "text/plain": [
       "Text(0, 0.5, 'Count')"
      ]
     },
     "execution_count": 27,
     "metadata": {},
     "output_type": "execute_result"
    },
    {
     "data": {
      "image/png": "[encoded data removed]",
      "text/plain": [
       "<Figure size 432x288 with 1 Axes>"
      ]
     },
     "metadata": {
      "needs_background": "light"
     },
     "output_type": "display_data"
    }
   ],
   "source": [
    "#Like Count by day\n",
    "likedate = df['likeCount'].groupby(df['Day']).sum().plot(kind=\"bar\", title = \"Likes by Day\",)\n",
    "likedate.set_xlabel(\"Day\")\n",
    "likedate.set_ylabel(\"Count\")"
   ]
  },
  {
   "cell_type": "code",
   "execution_count": 28,
   "id": "c9d339f0",
   "metadata": {},
   "outputs": [
    {
     "data": {
      "text/plain": [
       "Text(0, 0.5, 'Count')"
      ]
     },
     "execution_count": 28,
     "metadata": {},
     "output_type": "execute_result"
    },
    {
     "data": {
      "image/png": "[encoded data removed]",
      "text/plain": [
       "<Figure size 432x288 with 1 Axes>"
      ]
     },
     "metadata": {
      "needs_background": "light"
     },
     "output_type": "display_data"
    }
   ],
   "source": [
    "#Quote Count by week\n",
    "likedate = df['quoteCount'].groupby(df['Week']).sum().plot(kind=\"bar\", title = \"Quotes by Week\",)\n",
    "likedate.set_xlabel(\"Week\")\n",
    "likedate.set_ylabel(\"Count\")"
   ]
  },
  {
   "cell_type": "code",
   "execution_count": 29,
   "id": "605ca392",
   "metadata": {},
   "outputs": [
    {
     "data": {
      "text/plain": [
       "Text(0, 0.5, 'Count')"
      ]
     },
     "execution_count": 29,
     "metadata": {},
     "output_type": "execute_result"
    },
    {
     "data": {
      "image/png": "[encoded data removed]",
      "text/plain": [
       "<Figure size 432x288 with 1 Axes>"
      ]
     },
     "metadata": {
      "needs_background": "light"
     },
     "output_type": "display_data"
    }
   ],
   "source": [
    "#Quote Count by day\n",
    "likedate = df['quoteCount'].groupby(df['Day']).sum().plot(kind=\"bar\", title = \"Quotes by Day\",)\n",
    "likedate.set_xlabel(\"Week\")\n",
    "likedate.set_ylabel(\"Count\")"
   ]
  },
  {
   "cell_type": "markdown",
   "id": "131c3372",
   "metadata": {},
   "source": [
    "## Tweets by Language"
   ]
  },
  {
   "cell_type": "code",
   "execution_count": 34,
   "id": "38fdbeae",
   "metadata": {},
   "outputs": [
    {
     "data": {
      "text/plain": [
       "en     13180\n",
       "und     1528\n",
       "fr       170\n",
       "ht        30\n",
       "es        28\n",
       "fa        10\n",
       "in         9\n",
       "tl         6\n",
       "ca         5\n",
       "it         4\n",
       "pl         4\n",
       "tr         3\n",
       "no         3\n",
       "de         3\n",
       "ro         2\n",
       "zh         2\n",
       "nl         2\n",
       "cs         2\n",
       "sv         2\n",
       "et         2\n",
       "el         1\n",
       "da         1\n",
       "pt         1\n",
       "cy         1\n",
       "fi         1\n",
       "Name: lang, dtype: int64"
      ]
     },
     "execution_count": 34,
     "metadata": {},
     "output_type": "execute_result"
    }
   ],
   "source": [
    "df['lang'].value_counts()"
   ]
  },
  {
   "cell_type": "markdown",
   "id": "0152364c",
   "metadata": {},
   "source": [
    "## Tweets by Source"
   ]
  },
  {
   "cell_type": "code",
   "execution_count": 56,
   "id": "5f954f6b",
   "metadata": {},
   "outputs": [
    {
     "data": {
      "text/plain": [
       "Twitter Web App              5406\n",
       "Twitter for iPhone           4814\n",
       "Twitter for Android          3100\n",
       "Twitter for iPad              916\n",
       "TweetDeck                     257\n",
       "Hootsuite Inc.                154\n",
       "Echobox                        53\n",
       "Buffer                         46\n",
       "Twitter Media Studio           39\n",
       "Tweetbot for iΟS               31\n",
       "PEtwitpix                      24\n",
       "Instagram                      15\n",
       "Twitter for Mac                11\n",
       "Paper.li                       11\n",
       "IFTTT                          10\n",
       "Twitterrific for iOS            9\n",
       "Greenfly                        8\n",
       "Sprout Social                   7\n",
       "ttte                            7\n",
       "Zapier.com                      7\n",
       "Talon Android                   6\n",
       "Echofon                         6\n",
       "Sendible                        6\n",
       "WordPress.com                   5\n",
       "Tweetbot for Mac                5\n",
       "PromoRepublic                   5\n",
       "Tweetlogix                      4\n",
       "LinkedIn                        4\n",
       "LaterMedia                      3\n",
       "SocialFlow                      3\n",
       "Flamingo for Android            3\n",
       "ThreadReaderApp                 2\n",
       "Aviary for Twitter              2\n",
       "Fenix for iOS                   2\n",
       "Tumblr                          2\n",
       "SocialNewsDesk                  2\n",
       "TW Blue                         1\n",
       "Staples Law Bot                 1\n",
       "OS X                            1\n",
       "Twittimer                       1\n",
       "TwitPane for Android            1\n",
       "True Anthem                     1\n",
       "SocialPilot.co                  1\n",
       "Trillian                        1\n",
       "Fenix 2                         1\n",
       "Semrush Social Media Tool       1\n",
       "TweetCaster for Android         1\n",
       "Robonadia                       1\n",
       "Janetter Pro for iPad           1\n",
       "VerticalResponse                1\n",
       "Twidere for Android             1\n",
       "Name: sourceLabel, dtype: int64"
      ]
     },
     "execution_count": 56,
     "metadata": {},
     "output_type": "execute_result"
    }
   ],
   "source": [
    "df['sourceLabel'].value_counts()"
   ]
  },
  {
   "cell_type": "markdown",
   "id": "92cc440e",
   "metadata": {},
   "source": [
    "## Most Popular Links in Tweets"
   ]
  },
  {
   "cell_type": "code",
   "execution_count": 61,
   "id": "64f490b3",
   "metadata": {},
   "outputs": [
    {
     "data": {
      "text/plain": [
       "['https://newsinteractives.cbc.ca/elections/poll-tracker/canada/']    54\n",
       "['https://twitter.com/iamSas/status/1435010287988580356']             33\n",
       "['https://twitter.com/DaleV73/status/1430230380938924039']            23\n",
       "['https://twitter.com/erinotoole/status/1431034349672095747']         19\n",
       "['https://twitter.com/WaytowichNeil/status/1431007242703212544']      15\n",
       "Name: outlinks, dtype: int64"
      ]
     },
     "execution_count": 61,
     "metadata": {},
     "output_type": "execute_result"
    }
   ],
   "source": [
    "df['outlinks'].value_counts().head()"
   ]
  },
  {
   "cell_type": "code",
   "execution_count": 62,
   "id": "dbafaf84",
   "metadata": {},
   "outputs": [],
   "source": [
    "#1) CBC Official Poll Tracking Website\n",
    "#2) Tweet by Sarah Sears - \"Here's the video of stones being thrown towards the Prime Minister while he was leaving his campaign stop in London, Ontario this evening\"\n",
    "#3) Tweet by Dale - \"Court the Spelling Mistakes\" - Picture of Erin O'Toole campaign flyer\n",
    "#4) Tweet by Erin O'Toole - \"Statement on the situation in Afghanistan\" - Video\n",
    "#5) Tweet by Neil Before Zod - \"Here is Erin O'Toole saying that Alberta has the best pandemic response in Canada, in fact...\""
   ]
  },
  {
   "cell_type": "markdown",
   "id": "298224a4",
   "metadata": {},
   "source": [
    "## Place Exploration"
   ]
  },
  {
   "cell_type": "code",
   "execution_count": 70,
   "id": "f55f2be6",
   "metadata": {},
   "outputs": [],
   "source": [
    "df['place1'] = df['place'].str[55:]"
   ]
  },
  {
   "cell_type": "code",
   "execution_count": 73,
   "id": "a362c43e",
   "metadata": {},
   "outputs": [
    {
     "data": {
      "text/plain": [
       " 'Toronto, Ontario', 'name': 'Toronto', 'type': 'city', 'country': 'Canada', 'countryCode': 'CA'}                 87\n",
       " 'Ottawa, Ontario', 'name': 'Ottawa', 'type': 'city', 'country': 'Canada', 'countryCode': 'CA'}                   39\n",
       " 'Calgary, Alberta', 'name': 'Calgary', 'type': 'city', 'country': 'Canada', 'countryCode': 'CA'}                 29\n",
       " 'Winnipeg, Manitoba', 'name': 'Winnipeg', 'type': 'city', 'country': 'Canada', 'countryCode': 'CA'}              24\n",
       " 'Cobourg, Ontario', 'name': 'Cobourg', 'type': 'city', 'country': 'Canada', 'countryCode': 'CA'}                 23\n",
       " 'Vaughan, Ontario', 'name': 'Vaughan', 'type': 'city', 'country': 'Canada', 'countryCode': 'CA'}                 22\n",
       " 'Edmonton, Alberta', 'name': 'Edmonton', 'type': 'city', 'country': 'Canada', 'countryCode': 'CA'}               19\n",
       " 'Vancouver, British Columbia', 'name': 'Vancouver', 'type': 'city', 'country': 'Canada', 'countryCode': 'CA'}    13\n",
       " 'Montréal, Québec', 'name': 'Montréal', 'type': 'city', 'country': 'Canada', 'countryCode': 'CA'}                13\n",
       " 'Moose Jaw, Saskatchewan', 'name': 'Moose Jaw', 'type': 'city', 'country': 'Canada', 'countryCode': 'CA'}        11\n",
       "Name: place1, dtype: int64"
      ]
     },
     "execution_count": 73,
     "metadata": {},
     "output_type": "execute_result"
    }
   ],
   "source": [
    "df['place1'].value_counts().head(10)"
   ]
  }
 ],
 "metadata": {
  "kernelspec": {
   "display_name": "Python 3",
   "language": "python",
   "name": "python3"
  },
  "language_info": {
   "codemirror_mode": {
    "name": "ipython",
    "version": 3
   },
   "file_extension": ".py",
   "mimetype": "text/x-python",
   "name": "python",
   "nbconvert_exporter": "python",
   "pygments_lexer": "ipython3",
   "version": "3.8.8"
  }
 },
 "nbformat": 4,
 "nbformat_minor": 5
}
